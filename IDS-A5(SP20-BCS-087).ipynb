{
 "cells": [
  {
   "cell_type": "markdown",
   "id": "c3d12710",
   "metadata": {},
   "source": [
    "# Libraries"
   ]
  },
  {
   "cell_type": "code",
   "execution_count": 82,
   "id": "821fc2c4",
   "metadata": {},
   "outputs": [],
   "source": [
    "import pandas as pd\n",
    "import numpy as np\n",
    "from numpy.linalg import norm\n",
    "from sklearn.feature_extraction.text import CountVectorizer, TfidfVectorizer, TfidfTransformer"
   ]
  },
  {
   "cell_type": "markdown",
   "id": "7ec31069",
   "metadata": {},
   "source": [
    "# Documents & Corpus"
   ]
  },
  {
   "cell_type": "code",
   "execution_count": 83,
   "id": "d6a6e13e",
   "metadata": {},
   "outputs": [
    {
     "data": {
      "text/plain": [
       "['sunshine state enjoy sunshine',\n",
       " 'brown fox jump high, brown fox run',\n",
       " 'sunshine state fox run fast']"
      ]
     },
     "execution_count": 83,
     "metadata": {},
     "output_type": "execute_result"
    }
   ],
   "source": [
    "S1 = \"sunshine state enjoy sunshine\"\n",
    "S2 = \"brown fox jump high, brown fox run\"\n",
    "S3 = \"sunshine state fox run fast\"\n",
    "\n",
    "corpus = [S1, S2, S3]\n",
    "corpus"
   ]
  },
  {
   "cell_type": "markdown",
   "id": "e60f43c0",
   "metadata": {},
   "source": [
    "# BoW model\n"
   ]
  },
  {
   "cell_type": "code",
   "execution_count": 84,
   "id": "c16e2541",
   "metadata": {},
   "outputs": [
    {
     "name": "stderr",
     "output_type": "stream",
     "text": [
      "/opt/anaconda3/lib/python3.9/site-packages/sklearn/utils/deprecation.py:87: FutureWarning: Function get_feature_names is deprecated; get_feature_names is deprecated in 1.0 and will be removed in 1.2. Please use get_feature_names_out instead.\n",
      "  warnings.warn(msg, category=FutureWarning)\n"
     ]
    },
    {
     "data": {
      "text/plain": [
       "[[0, 1, 0, 0, 0, 0, 0, 1, 2],\n",
       " [2, 0, 0, 2, 1, 1, 1, 0, 0],\n",
       " [0, 0, 1, 1, 0, 0, 1, 1, 1]]"
      ]
     },
     "execution_count": 84,
     "metadata": {},
     "output_type": "execute_result"
    }
   ],
   "source": [
    "boW = CountVectorizer(stop_words = 'english')\n",
    "vectors = boW.fit_transform(corpus)\n",
    "features = boW.get_feature_names()\n",
    "dense = vectors.todense()\n",
    "denselistCorpus = dense.tolist()\n",
    "denselistCorpus"
   ]
  },
  {
   "cell_type": "code",
   "execution_count": 67,
   "id": "46a54b08",
   "metadata": {},
   "outputs": [
    {
     "data": {
      "text/plain": [
       "(3, 9)"
      ]
     },
     "execution_count": 67,
     "metadata": {},
     "output_type": "execute_result"
    }
   ],
   "source": [
    "vectors.shape"
   ]
  },
  {
   "cell_type": "code",
   "execution_count": 63,
   "id": "ae4154c8",
   "metadata": {},
   "outputs": [
    {
     "data": {
      "text/html": [
       "<div>\n",
       "<style scoped>\n",
       "    .dataframe tbody tr th:only-of-type {\n",
       "        vertical-align: middle;\n",
       "    }\n",
       "\n",
       "    .dataframe tbody tr th {\n",
       "        vertical-align: top;\n",
       "    }\n",
       "\n",
       "    .dataframe thead th {\n",
       "        text-align: right;\n",
       "    }\n",
       "</style>\n",
       "<table border=\"1\" class=\"dataframe\">\n",
       "  <thead>\n",
       "    <tr style=\"text-align: right;\">\n",
       "      <th></th>\n",
       "      <th>brown</th>\n",
       "      <th>enjoy</th>\n",
       "      <th>fast</th>\n",
       "      <th>fox</th>\n",
       "      <th>high</th>\n",
       "      <th>jump</th>\n",
       "      <th>run</th>\n",
       "      <th>state</th>\n",
       "      <th>sunshine</th>\n",
       "    </tr>\n",
       "  </thead>\n",
       "  <tbody>\n",
       "    <tr>\n",
       "      <th>0</th>\n",
       "      <td>0</td>\n",
       "      <td>1</td>\n",
       "      <td>0</td>\n",
       "      <td>0</td>\n",
       "      <td>0</td>\n",
       "      <td>0</td>\n",
       "      <td>0</td>\n",
       "      <td>1</td>\n",
       "      <td>2</td>\n",
       "    </tr>\n",
       "    <tr>\n",
       "      <th>1</th>\n",
       "      <td>2</td>\n",
       "      <td>0</td>\n",
       "      <td>0</td>\n",
       "      <td>2</td>\n",
       "      <td>1</td>\n",
       "      <td>1</td>\n",
       "      <td>1</td>\n",
       "      <td>0</td>\n",
       "      <td>0</td>\n",
       "    </tr>\n",
       "    <tr>\n",
       "      <th>2</th>\n",
       "      <td>0</td>\n",
       "      <td>0</td>\n",
       "      <td>1</td>\n",
       "      <td>1</td>\n",
       "      <td>0</td>\n",
       "      <td>0</td>\n",
       "      <td>1</td>\n",
       "      <td>1</td>\n",
       "      <td>1</td>\n",
       "    </tr>\n",
       "  </tbody>\n",
       "</table>\n",
       "</div>"
      ],
      "text/plain": [
       "   brown  enjoy  fast  fox  high  jump  run  state  sunshine\n",
       "0      0      1     0    0     0     0    0      1         2\n",
       "1      2      0     0    2     1     1    1      0         0\n",
       "2      0      0     1    1     0     0    1      1         1"
      ]
     },
     "execution_count": 63,
     "metadata": {},
     "output_type": "execute_result"
    }
   ],
   "source": [
    "boW_df = pd.DataFrame(denselist, columns=features)\n",
    "boW_df"
   ]
  },
  {
   "cell_type": "markdown",
   "id": "141e0cc9",
   "metadata": {},
   "source": [
    "# TF model"
   ]
  },
  {
   "cell_type": "code",
   "execution_count": 70,
   "id": "71bd5028",
   "metadata": {},
   "outputs": [],
   "source": [
    "tf = TfidfVectorizer(use_idf=False)\n",
    "matrix = tf.fit_transform(corpus)"
   ]
  },
  {
   "cell_type": "code",
   "execution_count": 73,
   "id": "8fd232c7",
   "metadata": {},
   "outputs": [
    {
     "data": {
      "text/plain": [
       "matrix([[0.        , 0.40824829, 0.        , 0.        , 0.        ,\n",
       "         0.        , 0.        , 0.40824829, 0.81649658],\n",
       "        [0.60302269, 0.        , 0.        , 0.60302269, 0.30151134,\n",
       "         0.30151134, 0.30151134, 0.        , 0.        ],\n",
       "        [0.        , 0.        , 0.4472136 , 0.4472136 , 0.        ,\n",
       "         0.        , 0.4472136 , 0.4472136 , 0.4472136 ]])"
      ]
     },
     "execution_count": 73,
     "metadata": {},
     "output_type": "execute_result"
    }
   ],
   "source": [
    "features = tf.get_feature_names()\n",
    "dense = matrix.todense()\n",
    "denselist = dense.tolist()\n",
    "dense"
   ]
  },
  {
   "cell_type": "code",
   "execution_count": 75,
   "id": "a6cc52b0",
   "metadata": {},
   "outputs": [
    {
     "data": {
      "text/html": [
       "<div>\n",
       "<style scoped>\n",
       "    .dataframe tbody tr th:only-of-type {\n",
       "        vertical-align: middle;\n",
       "    }\n",
       "\n",
       "    .dataframe tbody tr th {\n",
       "        vertical-align: top;\n",
       "    }\n",
       "\n",
       "    .dataframe thead th {\n",
       "        text-align: right;\n",
       "    }\n",
       "</style>\n",
       "<table border=\"1\" class=\"dataframe\">\n",
       "  <thead>\n",
       "    <tr style=\"text-align: right;\">\n",
       "      <th></th>\n",
       "      <th>brown</th>\n",
       "      <th>enjoy</th>\n",
       "      <th>fast</th>\n",
       "      <th>fox</th>\n",
       "      <th>high</th>\n",
       "      <th>jump</th>\n",
       "      <th>run</th>\n",
       "      <th>state</th>\n",
       "      <th>sunshine</th>\n",
       "    </tr>\n",
       "  </thead>\n",
       "  <tbody>\n",
       "    <tr>\n",
       "      <th>0</th>\n",
       "      <td>0.000000</td>\n",
       "      <td>0.408248</td>\n",
       "      <td>0.000000</td>\n",
       "      <td>0.000000</td>\n",
       "      <td>0.000000</td>\n",
       "      <td>0.000000</td>\n",
       "      <td>0.000000</td>\n",
       "      <td>0.408248</td>\n",
       "      <td>0.816497</td>\n",
       "    </tr>\n",
       "    <tr>\n",
       "      <th>1</th>\n",
       "      <td>0.603023</td>\n",
       "      <td>0.000000</td>\n",
       "      <td>0.000000</td>\n",
       "      <td>0.603023</td>\n",
       "      <td>0.301511</td>\n",
       "      <td>0.301511</td>\n",
       "      <td>0.301511</td>\n",
       "      <td>0.000000</td>\n",
       "      <td>0.000000</td>\n",
       "    </tr>\n",
       "    <tr>\n",
       "      <th>2</th>\n",
       "      <td>0.000000</td>\n",
       "      <td>0.000000</td>\n",
       "      <td>0.447214</td>\n",
       "      <td>0.447214</td>\n",
       "      <td>0.000000</td>\n",
       "      <td>0.000000</td>\n",
       "      <td>0.447214</td>\n",
       "      <td>0.447214</td>\n",
       "      <td>0.447214</td>\n",
       "    </tr>\n",
       "  </tbody>\n",
       "</table>\n",
       "</div>"
      ],
      "text/plain": [
       "      brown     enjoy      fast       fox      high      jump       run  \\\n",
       "0  0.000000  0.408248  0.000000  0.000000  0.000000  0.000000  0.000000   \n",
       "1  0.603023  0.000000  0.000000  0.603023  0.301511  0.301511  0.301511   \n",
       "2  0.000000  0.000000  0.447214  0.447214  0.000000  0.000000  0.447214   \n",
       "\n",
       "      state  sunshine  \n",
       "0  0.408248  0.816497  \n",
       "1  0.000000  0.000000  \n",
       "2  0.447214  0.447214  "
      ]
     },
     "execution_count": 75,
     "metadata": {},
     "output_type": "execute_result"
    }
   ],
   "source": [
    "tf_df = pd.DataFrame(denselist, columns=features)\n",
    "tf_df"
   ]
  },
  {
   "cell_type": "markdown",
   "id": "e2f16dd5",
   "metadata": {},
   "source": [
    "# IDF model\n"
   ]
  },
  {
   "cell_type": "code",
   "execution_count": 76,
   "id": "439fa8cf",
   "metadata": {},
   "outputs": [],
   "source": [
    "idf = TfidfTransformer(smooth_idf=True, use_idf=True)\n",
    "matrix = idf.fit(vectors)"
   ]
  },
  {
   "cell_type": "code",
   "execution_count": 77,
   "id": "eaa3bbec",
   "metadata": {},
   "outputs": [
    {
     "name": "stderr",
     "output_type": "stream",
     "text": [
      "/opt/anaconda3/lib/python3.9/site-packages/sklearn/utils/deprecation.py:87: FutureWarning: Function get_feature_names is deprecated; get_feature_names is deprecated in 1.0 and will be removed in 1.2. Please use get_feature_names_out instead.\n",
      "  warnings.warn(msg, category=FutureWarning)\n"
     ]
    },
    {
     "data": {
      "text/html": [
       "<div>\n",
       "<style scoped>\n",
       "    .dataframe tbody tr th:only-of-type {\n",
       "        vertical-align: middle;\n",
       "    }\n",
       "\n",
       "    .dataframe tbody tr th {\n",
       "        vertical-align: top;\n",
       "    }\n",
       "\n",
       "    .dataframe thead th {\n",
       "        text-align: right;\n",
       "    }\n",
       "</style>\n",
       "<table border=\"1\" class=\"dataframe\">\n",
       "  <thead>\n",
       "    <tr style=\"text-align: right;\">\n",
       "      <th></th>\n",
       "      <th>IDF</th>\n",
       "    </tr>\n",
       "  </thead>\n",
       "  <tbody>\n",
       "    <tr>\n",
       "      <th>fox</th>\n",
       "      <td>1.287682</td>\n",
       "    </tr>\n",
       "    <tr>\n",
       "      <th>run</th>\n",
       "      <td>1.287682</td>\n",
       "    </tr>\n",
       "    <tr>\n",
       "      <th>state</th>\n",
       "      <td>1.287682</td>\n",
       "    </tr>\n",
       "    <tr>\n",
       "      <th>sunshine</th>\n",
       "      <td>1.287682</td>\n",
       "    </tr>\n",
       "    <tr>\n",
       "      <th>brown</th>\n",
       "      <td>1.693147</td>\n",
       "    </tr>\n",
       "    <tr>\n",
       "      <th>enjoy</th>\n",
       "      <td>1.693147</td>\n",
       "    </tr>\n",
       "    <tr>\n",
       "      <th>fast</th>\n",
       "      <td>1.693147</td>\n",
       "    </tr>\n",
       "    <tr>\n",
       "      <th>high</th>\n",
       "      <td>1.693147</td>\n",
       "    </tr>\n",
       "    <tr>\n",
       "      <th>jump</th>\n",
       "      <td>1.693147</td>\n",
       "    </tr>\n",
       "  </tbody>\n",
       "</table>\n",
       "</div>"
      ],
      "text/plain": [
       "               IDF\n",
       "fox       1.287682\n",
       "run       1.287682\n",
       "state     1.287682\n",
       "sunshine  1.287682\n",
       "brown     1.693147\n",
       "enjoy     1.693147\n",
       "fast      1.693147\n",
       "high      1.693147\n",
       "jump      1.693147"
      ]
     },
     "execution_count": 77,
     "metadata": {},
     "output_type": "execute_result"
    }
   ],
   "source": [
    "df_idf = pd.DataFrame(idf.idf_, index=boW.get_feature_names(), columns=[\"IDF\"]) \n",
    "df_idf.sort_values(by=['IDF'])"
   ]
  },
  {
   "cell_type": "markdown",
   "id": "8bf875c6",
   "metadata": {},
   "source": [
    "# TF.IDF"
   ]
  },
  {
   "cell_type": "code",
   "execution_count": 78,
   "id": "7315a66d",
   "metadata": {},
   "outputs": [],
   "source": [
    "tfidf = TfidfVectorizer(use_idf=True) \n",
    "tfidf_vectors = tfidf.fit_transform(corpus)"
   ]
  },
  {
   "cell_type": "code",
   "execution_count": 79,
   "id": "a20216da",
   "metadata": {},
   "outputs": [
    {
     "data": {
      "text/plain": [
       "matrix([[0.        , 0.50689001, 0.        , 0.        , 0.        ,\n",
       "         0.        , 0.        , 0.38550292, 0.77100584],\n",
       "        [0.67070313, 0.        , 0.        , 0.51008702, 0.33535157,\n",
       "         0.33535157, 0.25504351, 0.        , 0.        ],\n",
       "        [0.        , 0.        , 0.54935123, 0.41779577, 0.        ,\n",
       "         0.        , 0.41779577, 0.41779577, 0.41779577]])"
      ]
     },
     "execution_count": 79,
     "metadata": {},
     "output_type": "execute_result"
    }
   ],
   "source": [
    "vectors_tfidf = tfidf_vectorizer_vectors[[0, 1, 2]] \n",
    "dense = vectors_tfidf.todense()\n",
    "dense"
   ]
  },
  {
   "cell_type": "code",
   "execution_count": 80,
   "id": "f1f8bd01",
   "metadata": {},
   "outputs": [
    {
     "name": "stderr",
     "output_type": "stream",
     "text": [
      "/opt/anaconda3/lib/python3.9/site-packages/sklearn/utils/deprecation.py:87: FutureWarning: Function get_feature_names is deprecated; get_feature_names is deprecated in 1.0 and will be removed in 1.2. Please use get_feature_names_out instead.\n",
      "  warnings.warn(msg, category=FutureWarning)\n"
     ]
    },
    {
     "data": {
      "text/html": [
       "<div>\n",
       "<style scoped>\n",
       "    .dataframe tbody tr th:only-of-type {\n",
       "        vertical-align: middle;\n",
       "    }\n",
       "\n",
       "    .dataframe tbody tr th {\n",
       "        vertical-align: top;\n",
       "    }\n",
       "\n",
       "    .dataframe thead th {\n",
       "        text-align: right;\n",
       "    }\n",
       "</style>\n",
       "<table border=\"1\" class=\"dataframe\">\n",
       "  <thead>\n",
       "    <tr style=\"text-align: right;\">\n",
       "      <th></th>\n",
       "      <th>tfidf_S1</th>\n",
       "      <th>tfidf_S2</th>\n",
       "      <th>tfidf_S3</th>\n",
       "    </tr>\n",
       "  </thead>\n",
       "  <tbody>\n",
       "    <tr>\n",
       "      <th>sunshine</th>\n",
       "      <td>0.771006</td>\n",
       "      <td>0.000000</td>\n",
       "      <td>0.417796</td>\n",
       "    </tr>\n",
       "    <tr>\n",
       "      <th>enjoy</th>\n",
       "      <td>0.506890</td>\n",
       "      <td>0.000000</td>\n",
       "      <td>0.000000</td>\n",
       "    </tr>\n",
       "    <tr>\n",
       "      <th>state</th>\n",
       "      <td>0.385503</td>\n",
       "      <td>0.000000</td>\n",
       "      <td>0.417796</td>\n",
       "    </tr>\n",
       "    <tr>\n",
       "      <th>brown</th>\n",
       "      <td>0.000000</td>\n",
       "      <td>0.670703</td>\n",
       "      <td>0.000000</td>\n",
       "    </tr>\n",
       "    <tr>\n",
       "      <th>fox</th>\n",
       "      <td>0.000000</td>\n",
       "      <td>0.510087</td>\n",
       "      <td>0.417796</td>\n",
       "    </tr>\n",
       "    <tr>\n",
       "      <th>high</th>\n",
       "      <td>0.000000</td>\n",
       "      <td>0.335352</td>\n",
       "      <td>0.000000</td>\n",
       "    </tr>\n",
       "    <tr>\n",
       "      <th>jump</th>\n",
       "      <td>0.000000</td>\n",
       "      <td>0.335352</td>\n",
       "      <td>0.000000</td>\n",
       "    </tr>\n",
       "    <tr>\n",
       "      <th>run</th>\n",
       "      <td>0.000000</td>\n",
       "      <td>0.255044</td>\n",
       "      <td>0.417796</td>\n",
       "    </tr>\n",
       "    <tr>\n",
       "      <th>fast</th>\n",
       "      <td>0.000000</td>\n",
       "      <td>0.000000</td>\n",
       "      <td>0.549351</td>\n",
       "    </tr>\n",
       "  </tbody>\n",
       "</table>\n",
       "</div>"
      ],
      "text/plain": [
       "          tfidf_S1  tfidf_S2  tfidf_S3\n",
       "sunshine  0.771006  0.000000  0.417796\n",
       "enjoy     0.506890  0.000000  0.000000\n",
       "state     0.385503  0.000000  0.417796\n",
       "brown     0.000000  0.670703  0.000000\n",
       "fox       0.000000  0.510087  0.417796\n",
       "high      0.000000  0.335352  0.000000\n",
       "jump      0.000000  0.335352  0.000000\n",
       "run       0.000000  0.255044  0.417796\n",
       "fast      0.000000  0.000000  0.549351"
      ]
     },
     "execution_count": 80,
     "metadata": {},
     "output_type": "execute_result"
    }
   ],
   "source": [
    "df = pd.DataFrame(vectors_tfidf.T.todense(), index=tfidf.get_feature_names(), columns=[\"tfidf_S1\", \"tfidf_S2\", \"tfidf_S3\"]) \n",
    "df.sort_values(by=[\"tfidf_S1\", \"tfidf_S2\", \"tfidf_S3\"],ascending=False)"
   ]
  },
  {
   "cell_type": "markdown",
   "id": "b3236370",
   "metadata": {},
   "source": [
    "# Cosine Similarity"
   ]
  },
  {
   "cell_type": "code",
   "execution_count": 86,
   "id": "22140fb5",
   "metadata": {},
   "outputs": [
    {
     "name": "stdout",
     "output_type": "stream",
     "text": [
      "S1: [0, 1, 0, 0, 0, 0, 0, 1, 2]\n",
      "S3: [0, 0, 1, 1, 0, 0, 1, 1, 1]\n",
      "Cosine Similarity: 0.5477225575051661\n"
     ]
    }
   ],
   "source": [
    "S1 = denselistCorpus[0]\n",
    "S3 = denselistCorpus[2]\n",
    " \n",
    "print(\"S1:\", S1)\n",
    "print(\"S3:\", S3)\n",
    "\n",
    "cosine = np.dot(S1, S3)/(norm(S1)*norm(S3))\n",
    "print(\"Cosine Similarity:\", cosine)"
   ]
  }
 ],
 "metadata": {
  "kernelspec": {
   "display_name": "Python 3 (ipykernel)",
   "language": "python",
   "name": "python3"
  },
  "language_info": {
   "codemirror_mode": {
    "name": "ipython",
    "version": 3
   },
   "file_extension": ".py",
   "mimetype": "text/x-python",
   "name": "python",
   "nbconvert_exporter": "python",
   "pygments_lexer": "ipython3",
   "version": "3.9.12"
  }
 },
 "nbformat": 4,
 "nbformat_minor": 5
}
