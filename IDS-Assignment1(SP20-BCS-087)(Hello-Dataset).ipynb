{
 "cells": [
  {
   "cell_type": "code",
   "execution_count": 101,
   "id": "53b01183",
   "metadata": {},
   "outputs": [],
   "source": [
    "import matplotlib.pyplot as plt\n",
    "import numpy as np\n",
    "import pandas as pd\n",
    "import seaborn as sns\n",
    "import csv\n",
    "import re"
   ]
  },
  {
   "cell_type": "code",
   "execution_count": 102,
   "id": "7d3e8ac5",
   "metadata": {},
   "outputs": [
    {
     "data": {
      "text/html": [
       "<div>\n",
       "<style scoped>\n",
       "    .dataframe tbody tr th:only-of-type {\n",
       "        vertical-align: middle;\n",
       "    }\n",
       "\n",
       "    .dataframe tbody tr th {\n",
       "        vertical-align: top;\n",
       "    }\n",
       "\n",
       "    .dataframe thead th {\n",
       "        text-align: right;\n",
       "    }\n",
       "</style>\n",
       "<table border=\"1\" class=\"dataframe\">\n",
       "  <thead>\n",
       "    <tr style=\"text-align: right;\">\n",
       "      <th></th>\n",
       "      <th>Name</th>\n",
       "      <th>Gender</th>\n",
       "      <th>HSSC-1</th>\n",
       "      <th>HSSC-2</th>\n",
       "      <th>CGPA</th>\n",
       "      <th>Favoritecolor</th>\n",
       "      <th>Birthmonth</th>\n",
       "      <th>Weight</th>\n",
       "    </tr>\n",
       "  </thead>\n",
       "  <tbody>\n",
       "    <tr>\n",
       "      <th>0</th>\n",
       "      <td>Muhammad Usman</td>\n",
       "      <td>Male</td>\n",
       "      <td>440</td>\n",
       "      <td>369</td>\n",
       "      <td>2.80</td>\n",
       "      <td>Black</td>\n",
       "      <td>March</td>\n",
       "      <td>77</td>\n",
       "    </tr>\n",
       "    <tr>\n",
       "      <th>1</th>\n",
       "      <td>Taha Ishfaq</td>\n",
       "      <td>Male</td>\n",
       "      <td>415</td>\n",
       "      <td>408</td>\n",
       "      <td>2.73</td>\n",
       "      <td>Red</td>\n",
       "      <td>March</td>\n",
       "      <td>72</td>\n",
       "    </tr>\n",
       "    <tr>\n",
       "      <th>2</th>\n",
       "      <td>Muhammad Hamdan</td>\n",
       "      <td>Male</td>\n",
       "      <td>388</td>\n",
       "      <td>321</td>\n",
       "      <td>2.78</td>\n",
       "      <td>Black</td>\n",
       "      <td>October</td>\n",
       "      <td>53</td>\n",
       "    </tr>\n",
       "    <tr>\n",
       "      <th>3</th>\n",
       "      <td>Syeda Maham Gillani</td>\n",
       "      <td>Female</td>\n",
       "      <td>412</td>\n",
       "      <td>440</td>\n",
       "      <td>3.11</td>\n",
       "      <td>Blue</td>\n",
       "      <td>February</td>\n",
       "      <td>63</td>\n",
       "    </tr>\n",
       "    <tr>\n",
       "      <th>4</th>\n",
       "      <td>Umar Wasim</td>\n",
       "      <td>Male</td>\n",
       "      <td>364</td>\n",
       "      <td>469</td>\n",
       "      <td>2.42</td>\n",
       "      <td>Black</td>\n",
       "      <td>October</td>\n",
       "      <td>80</td>\n",
       "    </tr>\n",
       "    <tr>\n",
       "      <th>...</th>\n",
       "      <td>...</td>\n",
       "      <td>...</td>\n",
       "      <td>...</td>\n",
       "      <td>...</td>\n",
       "      <td>...</td>\n",
       "      <td>...</td>\n",
       "      <td>...</td>\n",
       "      <td>...</td>\n",
       "    </tr>\n",
       "    <tr>\n",
       "      <th>129</th>\n",
       "      <td>M Abubakar Malik</td>\n",
       "      <td>Male</td>\n",
       "      <td>410</td>\n",
       "      <td>349</td>\n",
       "      <td>2.94</td>\n",
       "      <td>Blue</td>\n",
       "      <td>Feburary</td>\n",
       "      <td>65</td>\n",
       "    </tr>\n",
       "    <tr>\n",
       "      <th>130</th>\n",
       "      <td>Muhammad Ali</td>\n",
       "      <td>Male</td>\n",
       "      <td>403</td>\n",
       "      <td>390</td>\n",
       "      <td>2.52</td>\n",
       "      <td>Yellow</td>\n",
       "      <td>October</td>\n",
       "      <td>81</td>\n",
       "    </tr>\n",
       "    <tr>\n",
       "      <th>131</th>\n",
       "      <td>Shafaqat Ali</td>\n",
       "      <td>Male</td>\n",
       "      <td>424</td>\n",
       "      <td>412</td>\n",
       "      <td>3.07</td>\n",
       "      <td>Black</td>\n",
       "      <td>May</td>\n",
       "      <td>58</td>\n",
       "    </tr>\n",
       "    <tr>\n",
       "      <th>132</th>\n",
       "      <td>Ammar Asif</td>\n",
       "      <td>Male</td>\n",
       "      <td>351</td>\n",
       "      <td>423</td>\n",
       "      <td>2.52</td>\n",
       "      <td>Black</td>\n",
       "      <td>December</td>\n",
       "      <td>68</td>\n",
       "    </tr>\n",
       "    <tr>\n",
       "      <th>133</th>\n",
       "      <td>Muhammad Zubair</td>\n",
       "      <td>Male</td>\n",
       "      <td>361</td>\n",
       "      <td>335</td>\n",
       "      <td>2.81</td>\n",
       "      <td>Black</td>\n",
       "      <td>March</td>\n",
       "      <td>58</td>\n",
       "    </tr>\n",
       "  </tbody>\n",
       "</table>\n",
       "<p>134 rows × 8 columns</p>\n",
       "</div>"
      ],
      "text/plain": [
       "                    Name  Gender  HSSC-1  HSSC-2  CGPA Favoritecolor  \\\n",
       "0         Muhammad Usman    Male     440     369  2.80         Black   \n",
       "1            Taha Ishfaq    Male     415     408  2.73           Red   \n",
       "2        Muhammad Hamdan    Male     388     321  2.78         Black   \n",
       "3    Syeda Maham Gillani  Female     412     440  3.11          Blue   \n",
       "4             Umar Wasim    Male     364     469  2.42         Black   \n",
       "..                   ...     ...     ...     ...   ...           ...   \n",
       "129     M Abubakar Malik    Male     410     349  2.94          Blue   \n",
       "130         Muhammad Ali    Male     403     390  2.52        Yellow   \n",
       "131         Shafaqat Ali    Male     424     412  3.07         Black   \n",
       "132          Ammar Asif     Male     351     423  2.52         Black   \n",
       "133      Muhammad Zubair    Male     361     335  2.81         Black   \n",
       "\n",
       "    Birthmonth  Weight  \n",
       "0        March      77  \n",
       "1        March      72  \n",
       "2      October      53  \n",
       "3     February      63  \n",
       "4     October       80  \n",
       "..         ...     ...  \n",
       "129   Feburary      65  \n",
       "130    October      81  \n",
       "131        May      58  \n",
       "132  December       68  \n",
       "133      March      58  \n",
       "\n",
       "[134 rows x 8 columns]"
      ]
     },
     "execution_count": 102,
     "metadata": {},
     "output_type": "execute_result"
    }
   ],
   "source": [
    "df = pd.read_csv('/Users/macbookpro/Desktop/dataset.ids.assign1.csv')\n",
    "df"
   ]
  },
  {
   "cell_type": "code",
   "execution_count": 108,
   "id": "469ade7d",
   "metadata": {},
   "outputs": [
    {
     "name": "stdout",
     "output_type": "stream",
     "text": [
      "The list of matching first letter : ['Hamza Naveed', 'Habib Ullah', 'Hunain Javed', 'Hafiz Malahim Labib.', 'Hamna Tariq Saleemi', 'Hina', 'Hamza Javed Khan', 'Husnain Ahmed ', 'Hamayoun Masroor', 'Hussain Afzal']\n"
     ]
    }
   ],
   "source": [
    "#Print the list of all students whose first name starts with letter the 'H'.\n",
    "names = df['Name'].values\n",
    "check = 'H'\n",
    "res = [idx for idx in names if idx[0].lower() == check.lower()]\n",
    "print(\"The list of matching first letter : \" + str(res))"
   ]
  },
  {
   "cell_type": "code",
   "execution_count": 127,
   "id": "fab39c30",
   "metadata": {},
   "outputs": [
    {
     "name": "stdout",
     "output_type": "stream",
     "text": [
      "['Syeda Maham Gillani']\n",
      "['Shahzada Mujahid Raza']\n",
      "['Muhammad Subhan Khan']\n",
      "['Sarmad Waheed Ahmed']\n",
      "['Ahmed Amjad Dar']\n",
      "['Muhammad Ibrahim Khalil']\n",
      "['Muhammad Saim Jamil']\n",
      "['Ahmar Hafeez Khan']\n",
      "['Muhammad Umar Asghar']\n",
      "['Muhammad Haider Awan']\n",
      "['Abdul Mateen Alam']\n",
      "['Muhammad Ammar Khalid']\n",
      "['Osama Nadeem Khan']\n",
      "['Muhammad Hashir Azeem']\n",
      "['Muhammad Aun Raza']\n",
      "['Syeda Noor Zehra']\n",
      "['Hafiz Malahim Labib']\n",
      "['Hamna Tariq Saleemi']\n",
      "['Bashara Tehseen Liaqat']\n",
      "['Muhammad Zafar Ijaz']\n",
      "['Muhammad Hammad Ejaz']\n",
      "['Muhammad Saif Ullah']\n",
      "['Syed Muhammad Hamza']\n",
      "['Muhammad Al Fahad']\n",
      "['Syed Ali Raza']\n",
      "['Abdul Hadi Khan']\n",
      "['Hamza Javed Khan']\n",
      "['Syed Muhammad Ali']\n",
      "['Salman Wasi Ahmad']\n",
      "['Ghulam Mustafa Shiekh']\n",
      "['Muhammad Azeem Shoukat']\n",
      "['Muhammad Nouman Tahir']\n",
      "['Muhammad Huzaifa Jawad']\n",
      "['Noor Tariq Rana']\n",
      "['Muhammad Asadullah Rind']\n",
      "['Muhammad Talha Saeed']\n",
      "['Muhammad Bilal Aslam']\n",
      "['Syed Ali Mehdi']\n",
      "['Aftab Ahmad Khan']\n",
      "['Syed Zain Raza']\n",
      "['Mutyyab Ul Hassan']\n",
      "['Muhammad Umair Tariq']\n",
      "\n",
      "The total number of students who have a three words name:  42\n"
     ]
    }
   ],
   "source": [
    "#Print the total number of students who have a three words name (first-middle-surname).\n",
    "xyz= []\n",
    "count =0\n",
    "for item in names:\n",
    "    xyz = (re.findall(r'[A-Z][a-z]+\\s+[A-Z][a-z]+\\s+[A-Z][a-z]+', str(item))) \n",
    "    if len(xyz):\n",
    "        print(xyz) \n",
    "        count = count+1\n",
    "        \n",
    "print('\\nThe total number of students who have a three words name: ',count)"
   ]
  },
  {
   "cell_type": "code",
   "execution_count": 124,
   "id": "0ac34b21",
   "metadata": {},
   "outputs": [
    {
     "name": "stdout",
     "output_type": "stream",
     "text": [
      "The percentage of students with 3 or above CGPA is:  28.36\n"
     ]
    }
   ],
   "source": [
    "#Print the percentage of students who have a CGPA of 3.0 or above.\n",
    "stu = df[df['CGPA'] >= 3.00]\n",
    "\n",
    "abv3 = (len(stu)/len(names))*100\n",
    "print('The percentage of students with 3 or above CGPA is: ', round(abv3, 2))"
   ]
  },
  {
   "cell_type": "code",
   "execution_count": 82,
   "id": "c122d5cb",
   "metadata": {},
   "outputs": [
    {
     "data": {
      "image/png": "[encoded data removed]",
      "text/plain": [
       "<Figure size 432x288 with 1 Axes>"
      ]
     },
     "metadata": {},
     "output_type": "display_data"
    }
   ],
   "source": [
    "#Plot a pie chart to show the ratio of male and female students.\n",
    "gender = ['Male', 'Female']\n",
    "f =df[df['Gender']=='Female']\n",
    "female =len(f)\n",
    "m = df[df['Gender']=='Male']\n",
    "male = len(m)\n",
    "lists=[male,female]\n",
    "plt.pie(lists, labels = gender, autopct='%1.1f%%')\n",
    "plt.show()"
   ]
  },
  {
   "cell_type": "code",
   "execution_count": 89,
   "id": "fba56096",
   "metadata": {},
   "outputs": [
    {
     "data": {
      "text/plain": [
       "<AxesSubplot:title={'center':\"Male students' CGPA\"}, xlabel='CGPA', ylabel='Count'>"
      ]
     },
     "execution_count": 89,
     "metadata": {},
     "output_type": "execute_result"
    },
    {
     "data": {
      "image/png": "[encoded data removed]",
      "text/plain": [
       "<Figure size 432x288 with 1 Axes>"
      ]
     },
     "metadata": {
      "needs_background": "light"
     },
     "output_type": "display_data"
    }
   ],
   "source": [
    "#Plot the CGPA of all male students on a histogram with intervals 2.0-2.5, 2.6-3.0, 3.1-3.5, 3.6-4.0.\n",
    "plt.title(\"Male students' CGPA\")\n",
    "sns.histplot(x='CGPA', data=m , bins=[2.0,2.6,3.1,3.6,4.0])\n"
   ]
  },
  {
   "cell_type": "code",
   "execution_count": 91,
   "id": "d890f9da",
   "metadata": {},
   "outputs": [
    {
     "data": {
      "text/html": [
       "<div>\n",
       "<style scoped>\n",
       "    .dataframe tbody tr th:only-of-type {\n",
       "        vertical-align: middle;\n",
       "    }\n",
       "\n",
       "    .dataframe tbody tr th {\n",
       "        vertical-align: top;\n",
       "    }\n",
       "\n",
       "    .dataframe thead th {\n",
       "        text-align: right;\n",
       "    }\n",
       "</style>\n",
       "<table border=\"1\" class=\"dataframe\">\n",
       "  <thead>\n",
       "    <tr style=\"text-align: right;\">\n",
       "      <th></th>\n",
       "      <th>HSSC-1</th>\n",
       "      <th>HSSC-2</th>\n",
       "      <th>CGPA</th>\n",
       "      <th>Weight</th>\n",
       "    </tr>\n",
       "  </thead>\n",
       "  <tbody>\n",
       "    <tr>\n",
       "      <th>HSSC-1</th>\n",
       "      <td>1.000000</td>\n",
       "      <td>0.083727</td>\n",
       "      <td>0.118560</td>\n",
       "      <td>-0.099392</td>\n",
       "    </tr>\n",
       "    <tr>\n",
       "      <th>HSSC-2</th>\n",
       "      <td>0.083727</td>\n",
       "      <td>1.000000</td>\n",
       "      <td>0.195583</td>\n",
       "      <td>0.080068</td>\n",
       "    </tr>\n",
       "    <tr>\n",
       "      <th>CGPA</th>\n",
       "      <td>0.118560</td>\n",
       "      <td>0.195583</td>\n",
       "      <td>1.000000</td>\n",
       "      <td>-0.014220</td>\n",
       "    </tr>\n",
       "    <tr>\n",
       "      <th>Weight</th>\n",
       "      <td>-0.099392</td>\n",
       "      <td>0.080068</td>\n",
       "      <td>-0.014220</td>\n",
       "      <td>1.000000</td>\n",
       "    </tr>\n",
       "  </tbody>\n",
       "</table>\n",
       "</div>"
      ],
      "text/plain": [
       "          HSSC-1    HSSC-2      CGPA    Weight\n",
       "HSSC-1  1.000000  0.083727  0.118560 -0.099392\n",
       "HSSC-2  0.083727  1.000000  0.195583  0.080068\n",
       "CGPA    0.118560  0.195583  1.000000 -0.014220\n",
       "Weight -0.099392  0.080068 -0.014220  1.000000"
      ]
     },
     "execution_count": 91,
     "metadata": {},
     "output_type": "execute_result"
    }
   ],
   "source": [
    "#Create a correlation matrix between HSSC-1 and HSSC-2 marks and then plot on a heatmap.\n",
    "frame = df.corr()\n",
    "frame"
   ]
  },
  {
   "cell_type": "code",
   "execution_count": 92,
   "id": "4d8e481d",
   "metadata": {},
   "outputs": [
    {
     "data": {
      "image/png": "[encoded data removed]",
      "text/plain": [
       "<Figure size 432x288 with 2 Axes>"
      ]
     },
     "metadata": {
      "needs_background": "light"
     },
     "output_type": "display_data"
    }
   ],
   "source": [
    "plot=sns.heatmap(frame,annot=True)"
   ]
  },
  {
   "cell_type": "code",
   "execution_count": null,
   "id": "7b9866b3",
   "metadata": {},
   "outputs": [],
   "source": []
  }
 ],
 "metadata": {
  "kernelspec": {
   "display_name": "Python 3 (ipykernel)",
   "language": "python",
   "name": "python3"
  },
  "language_info": {
   "codemirror_mode": {
    "name": "ipython",
    "version": 3
   },
   "file_extension": ".py",
   "mimetype": "text/x-python",
   "name": "python",
   "nbconvert_exporter": "python",
   "pygments_lexer": "ipython3",
   "version": "3.9.12"
  }
 },
 "nbformat": 4,
 "nbformat_minor": 5
}
